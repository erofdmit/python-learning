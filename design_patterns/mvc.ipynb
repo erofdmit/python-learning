{
 "cells": [
  {
   "cell_type": "markdown",
   "metadata": {},
   "source": [
    "### Паттерн MVC (Model-View-Controller)\n",
    " \n",
    "Паттерн MVC разделяет приложение на три компонента: Model, View и Controller.\n",
    "Это позволяет разделить логику обработки данных, пользовательский интерфейс и управление между отдельными частями приложения.\n",
    "Используется для упрощения архитектуры и организации кода в крупных проектах, улучшения тестируемости и поддержки.\n",
    "- **Model**: Управляет данными, бизнес-логикой и правилами приложения.\n",
    "- **View**: Отвечает за отображение данных пользователю и взаимодействие с ним.\n",
    "- **Controller**: Получает ввод от пользователя, обновляет модель и передает изменения представлению.\n",
    "\n"
   ]
  },
  {
   "cell_type": "code",
   "execution_count": 1,
   "metadata": {},
   "outputs": [],
   "source": [
    "# Модель (Model)\n",
    "class UserModel:\n",
    "    def __init__(self):\n",
    "        # Данные хранятся в виде списка\n",
    "        self.users = []\n",
    "\n",
    "    def add_user(self, user_name):\n",
    "        \"\"\"Добавление пользователя в список\"\"\"\n",
    "        self.users.append(user_name)\n",
    "\n",
    "    def remove_user(self, user_name):\n",
    "        \"\"\"Удаление пользователя из списка\"\"\"\n",
    "        if user_name in self.users:\n",
    "            self.users.remove(user_name)\n",
    "\n",
    "    def get_all_users(self):\n",
    "        \"\"\"Получение списка всех пользователей\"\"\"\n",
    "        return self.users"
   ]
  },
  {
   "cell_type": "code",
   "execution_count": 2,
   "metadata": {},
   "outputs": [],
   "source": [
    "# Представление (View)\n",
    "class UserView:\n",
    "    def show_all_users(self, users):\n",
    "        \"\"\"Отображает всех пользователей\"\"\"\n",
    "        print(\"Список пользователей:\")\n",
    "        for user in users:\n",
    "            print(f\"- {user}\")\n",
    "\n",
    "    def show_user_added(self, user_name):\n",
    "        \"\"\"Показывает сообщение о добавлении пользователя\"\"\"\n",
    "        print(f\"Пользователь '{user_name}' добавлен.\")\n",
    "\n",
    "    def show_user_removed(self, user_name):\n",
    "        \"\"\"Показывает сообщение о удалении пользователя\"\"\"\n",
    "        print(f\"Пользователь '{user_name}' удален.\")\n",
    "\n",
    "    def show_error(self, error_message):\n",
    "        \"\"\"Показывает сообщение об ошибке\"\"\"\n",
    "        print(f\"Ошибка: {error_message}\")\n"
   ]
  },
  {
   "cell_type": "code",
   "execution_count": 3,
   "metadata": {},
   "outputs": [],
   "source": [
    "# Контроллер (Controller)\n",
    "class UserController:\n",
    "    def __init__(self, model, view):\n",
    "        self.model = model  # Ссылка на модель данных\n",
    "        self.view = view    # Ссылка на представление\n",
    "\n",
    "    def add_user(self, user_name):\n",
    "        \"\"\"Добавляет пользователя через модель и обновляет представление\"\"\"\n",
    "        self.model.add_user(user_name)\n",
    "        self.view.show_user_added(user_name)\n",
    "\n",
    "    def remove_user(self, user_name):\n",
    "        \"\"\"Удаляет пользователя через модель и обновляет представление\"\"\"\n",
    "        if user_name in self.model.get_all_users():\n",
    "            self.model.remove_user(user_name)\n",
    "            self.view.show_user_removed(user_name)\n",
    "        else:\n",
    "            self.view.show_error(f\"Пользователь '{user_name}' не найден.\")\n",
    "\n",
    "    def show_users(self):\n",
    "        \"\"\"Отображает всех пользователей через представление\"\"\"\n",
    "        users = self.model.get_all_users()\n",
    "        self.view.show_all_users(users)"
   ]
  },
  {
   "cell_type": "code",
   "execution_count": 4,
   "metadata": {},
   "outputs": [],
   "source": [
    "model = UserModel()\n",
    "view = UserView()\n",
    "controller = UserController(model, view)"
   ]
  },
  {
   "cell_type": "code",
   "execution_count": 5,
   "metadata": {},
   "outputs": [
    {
     "name": "stdout",
     "output_type": "stream",
     "text": [
      "Пользователь 'Alice' добавлен.\n",
      "Пользователь 'Bob' добавлен.\n",
      "Список пользователей:\n",
      "- Alice\n",
      "- Bob\n"
     ]
    }
   ],
   "source": [
    "controller.add_user(\"Alice\")  # Добавление пользователя\n",
    "controller.add_user(\"Bob\")    # Добавление пользователя\n",
    "controller.show_users() "
   ]
  },
  {
   "cell_type": "code",
   "execution_count": 6,
   "metadata": {},
   "outputs": [
    {
     "name": "stdout",
     "output_type": "stream",
     "text": [
      "Пользователь 'Alice' удален.\n",
      "Список пользователей:\n",
      "- Bob\n",
      "Ошибка: Пользователь 'Charlie' не найден.\n"
     ]
    }
   ],
   "source": [
    "controller.remove_user(\"Alice\")  # Удаление пользователя\n",
    "controller.show_users()          # Показ всех пользователей\n",
    "\n",
    "controller.remove_user(\"Charlie\")"
   ]
  }
 ],
 "metadata": {
  "kernelspec": {
   "display_name": ".venv",
   "language": "python",
   "name": "python3"
  },
  "language_info": {
   "codemirror_mode": {
    "name": "ipython",
    "version": 3
   },
   "file_extension": ".py",
   "mimetype": "text/x-python",
   "name": "python",
   "nbconvert_exporter": "python",
   "pygments_lexer": "ipython3",
   "version": "3.12.6"
  }
 },
 "nbformat": 4,
 "nbformat_minor": 2
}
