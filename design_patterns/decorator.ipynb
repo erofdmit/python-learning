{
 "cells": [
  {
   "cell_type": "markdown",
   "metadata": {},
   "source": [
    "### Декоратор\n",
    "\n",
    "Паттерн \"Декоратор\" (Decorator) используется для динамического добавления новых обязанностей объекту. \n",
    "Он позволяет оборачивать объекты в различные декораторы, которые изменяют их поведение. В отличие от \n",
    "наследования, декоратор позволяет добавлять функциональность не изменяя исходный класс. Этот паттерн \n",
    "подходит для ситуаций, когда необходимо расширить функционал объектов, но нет возможности или желания \n",
    "менять код базового класса.\n",
    "\n",
    "Применение:\n",
    "1. Логирование.\n",
    "2. Проверка и валидация входных данных.\n",
    "3. Кэширование результатов.\n",
    "4. Контроль доступа."
   ]
  },
  {
   "cell_type": "code",
   "execution_count": 4,
   "metadata": {},
   "outputs": [],
   "source": [
    "# Базовый класс компонента\n",
    "class Coffee:\n",
    "    def cost(self):\n",
    "        return 5  # Базовая стоимость кофе\n",
    "\n",
    "    def description(self):\n",
    "        return \"Simple Coffee\""
   ]
  },
  {
   "cell_type": "code",
   "execution_count": 1,
   "metadata": {},
   "outputs": [],
   "source": [
    "# Декоратор, который добавляет поведение к классу\n",
    "class MilkDecorator:\n",
    "    def __init__(self, coffee):\n",
    "        self._coffee = coffee\n",
    "\n",
    "    def cost(self):\n",
    "        return self._coffee.cost() + 2  # Добавление стоимости молока\n",
    "\n",
    "    def description(self):\n",
    "        return self._coffee.description() + \", Milk\""
   ]
  },
  {
   "cell_type": "code",
   "execution_count": 2,
   "metadata": {},
   "outputs": [],
   "source": [
    "# Декоратор для сахара\n",
    "class SugarDecorator:\n",
    "    def __init__(self, coffee):\n",
    "        self._coffee = coffee\n",
    "\n",
    "    def cost(self):\n",
    "        return self._coffee.cost() + 1  # Добавление стоимости сахара\n",
    "\n",
    "    def description(self):\n",
    "        return self._coffee.description() + \", Sugar\""
   ]
  },
  {
   "cell_type": "code",
   "execution_count": 5,
   "metadata": {},
   "outputs": [
    {
     "name": "stdout",
     "output_type": "stream",
     "text": [
      "Simple Coffee - $5\n"
     ]
    }
   ],
   "source": [
    "coffee = Coffee()\n",
    "print(f\"{coffee.description()} - ${coffee.cost()}\")"
   ]
  },
  {
   "cell_type": "code",
   "execution_count": 6,
   "metadata": {},
   "outputs": [
    {
     "name": "stdout",
     "output_type": "stream",
     "text": [
      "Simple Coffee, Milk - $7\n"
     ]
    }
   ],
   "source": [
    "milk_coffee = MilkDecorator(coffee)\n",
    "print(f\"{milk_coffee.description()} - ${milk_coffee.cost()}\")"
   ]
  },
  {
   "cell_type": "code",
   "execution_count": 7,
   "metadata": {},
   "outputs": [
    {
     "name": "stdout",
     "output_type": "stream",
     "text": [
      "Simple Coffee, Milk, Sugar - $8\n"
     ]
    }
   ],
   "source": [
    "milk_sugar_coffee = SugarDecorator(milk_coffee)\n",
    "print(f\"{milk_sugar_coffee.description()} - ${milk_sugar_coffee.cost()}\")"
   ]
  }
 ],
 "metadata": {
  "kernelspec": {
   "display_name": ".venv",
   "language": "python",
   "name": "python3"
  },
  "language_info": {
   "codemirror_mode": {
    "name": "ipython",
    "version": 3
   },
   "file_extension": ".py",
   "mimetype": "text/x-python",
   "name": "python",
   "nbconvert_exporter": "python",
   "pygments_lexer": "ipython3",
   "version": "3.12.6"
  }
 },
 "nbformat": 4,
 "nbformat_minor": 2
}
