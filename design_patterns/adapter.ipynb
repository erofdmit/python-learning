{
 "cells": [
  {
   "cell_type": "markdown",
   "metadata": {},
   "source": [
    "### Адаптер\n",
    "\n",
    "Паттерн \"Адаптер\" (Adapter) используется для приведения несовместимого интерфейса класса к требуемому клиентом интерфейсу. \n",
    "Он позволяет объектам с несовместимыми интерфейсами работать вместе. Адаптер оборачивает один объект и преобразует интерфейс \n",
    "так, чтобы его можно было использовать в другом контексте.\n",
    "\n",
    "Применение:\n",
    "1. Интеграция сторонних библиотек с собственными системами.\n",
    "2. Приведение интерфейсов разных классов к единому виду.\n",
    "3. Работа с несовместимыми API."
   ]
  },
  {
   "cell_type": "code",
   "execution_count": 4,
   "metadata": {},
   "outputs": [],
   "source": [
    "# Старая система, которая работает с данными в виде списка\n",
    "class OldSystem:\n",
    "    def get_data(self):\n",
    "        return [\"data1\", \"data2\", \"data3\"]"
   ]
  },
  {
   "cell_type": "code",
   "execution_count": 5,
   "metadata": {},
   "outputs": [],
   "source": [
    "# Новая система, которая ожидает данные в виде строки\n",
    "class NewSystem:\n",
    "    def __init__(self, data):\n",
    "        self.data = data\n",
    "\n",
    "    def display_data(self):\n",
    "        print(f\"Data in new format: {self.data}\")"
   ]
  },
  {
   "cell_type": "code",
   "execution_count": 6,
   "metadata": {},
   "outputs": [],
   "source": [
    "# Адаптер, который преобразует данные из старого формата в новый\n",
    "class Adapter:\n",
    "    def __init__(self, old_system):\n",
    "        self._old_system = old_system\n",
    "\n",
    "    def get_converted_data(self):\n",
    "        # Преобразуем список в строку, объединяя элементы через запятую\n",
    "        return \", \".join(self._old_system.get_data())"
   ]
  },
  {
   "cell_type": "code",
   "execution_count": 10,
   "metadata": {},
   "outputs": [
    {
     "data": {
      "text/plain": [
       "['data1', 'data2', 'data3']"
      ]
     },
     "execution_count": 10,
     "metadata": {},
     "output_type": "execute_result"
    }
   ],
   "source": [
    "old_system = OldSystem()\n",
    "old_system.get_data()"
   ]
  },
  {
   "cell_type": "code",
   "execution_count": 11,
   "metadata": {},
   "outputs": [],
   "source": [
    "adapter = Adapter(old_system)\n",
    "converted_data = adapter.get_converted_data()"
   ]
  },
  {
   "cell_type": "code",
   "execution_count": 12,
   "metadata": {},
   "outputs": [
    {
     "name": "stdout",
     "output_type": "stream",
     "text": [
      "Data in new format: data1, data2, data3\n"
     ]
    }
   ],
   "source": [
    "new_system = NewSystem(converted_data)\n",
    "new_system.display_data()"
   ]
  }
 ],
 "metadata": {
  "kernelspec": {
   "display_name": ".venv",
   "language": "python",
   "name": "python3"
  },
  "language_info": {
   "codemirror_mode": {
    "name": "ipython",
    "version": 3
   },
   "file_extension": ".py",
   "mimetype": "text/x-python",
   "name": "python",
   "nbconvert_exporter": "python",
   "pygments_lexer": "ipython3",
   "version": "3.12.6"
  }
 },
 "nbformat": 4,
 "nbformat_minor": 2
}
