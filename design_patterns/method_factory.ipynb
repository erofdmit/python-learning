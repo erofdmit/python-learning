{
 "cells": [
  {
   "cell_type": "markdown",
   "metadata": {},
   "source": [
    "### Метод-фабрика\n",
    "\n",
    "Паттерн \"Метод-фабрика\" (Factory Method) используется для создания объектов без указания конкретного класса создаваемого объекта. \n",
    "Он делегирует создание объектов подклассам и позволяет использовать их через интерфейс базового класса. Это дает возможность изменять \n",
    "создаваемые объекты, не меняя код, который их использует.\n",
    "\n",
    "Применение:\n",
    "1. Создание объектов, тип которых заранее неизвестен.\n",
    "2. Упрощение логики создания объектов в зависимости от условий.\n",
    "3. Инкапсуляция логики создания сложных объектов."
   ]
  },
  {
   "cell_type": "code",
   "execution_count": 2,
   "metadata": {},
   "outputs": [],
   "source": [
    "# Базовый класс документа\n",
    "class Document:\n",
    "    def render(self):\n",
    "        raise NotImplementedError(\"Этот метод должен быть переопределен в подклассе\")"
   ]
  },
  {
   "cell_type": "code",
   "execution_count": 3,
   "metadata": {},
   "outputs": [],
   "source": [
    "# Конкретный класс для PDF-документа\n",
    "class PDFDocument(Document):\n",
    "    def render(self):\n",
    "        return \"Rendering PDF Document\""
   ]
  },
  {
   "cell_type": "code",
   "execution_count": 4,
   "metadata": {},
   "outputs": [],
   "source": [
    "# Конкретный класс для Word-документа\n",
    "class WordDocument(Document):\n",
    "    def render(self):\n",
    "        return \"Rendering Word Document\""
   ]
  },
  {
   "cell_type": "code",
   "execution_count": 5,
   "metadata": {},
   "outputs": [],
   "source": [
    "# Фабрика для создания документов\n",
    "class DocumentFactory:\n",
    "    @staticmethod\n",
    "    def create_document(doc_type):\n",
    "        if doc_type == \"pdf\":\n",
    "            return PDFDocument()\n",
    "        elif doc_type == \"word\":\n",
    "            return WordDocument()\n",
    "        else:\n",
    "            raise ValueError(f\"Неизвестный тип документа: {doc_type}\")"
   ]
  },
  {
   "cell_type": "code",
   "execution_count": 6,
   "metadata": {},
   "outputs": [
    {
     "name": "stdout",
     "output_type": "stream",
     "text": [
      "Rendering PDF Document\n"
     ]
    }
   ],
   "source": [
    "pdf = DocumentFactory.create_document(\"pdf\")\n",
    "print(pdf.render())  # Вывод: Rendering PDF Document"
   ]
  },
  {
   "cell_type": "code",
   "execution_count": 7,
   "metadata": {},
   "outputs": [
    {
     "name": "stdout",
     "output_type": "stream",
     "text": [
      "Rendering Word Document\n"
     ]
    }
   ],
   "source": [
    "word = DocumentFactory.create_document(\"word\")\n",
    "print(word.render())"
   ]
  },
  {
   "cell_type": "code",
   "execution_count": 8,
   "metadata": {},
   "outputs": [
    {
     "ename": "ValueError",
     "evalue": "Неизвестный тип документа: excel",
     "output_type": "error",
     "traceback": [
      "\u001b[0;31m---------------------------------------------------------------------------\u001b[0m",
      "\u001b[0;31mValueError\u001b[0m                                Traceback (most recent call last)",
      "Cell \u001b[0;32mIn[8], line 1\u001b[0m\n\u001b[0;32m----> 1\u001b[0m unknown \u001b[38;5;241m=\u001b[39m \u001b[43mDocumentFactory\u001b[49m\u001b[38;5;241;43m.\u001b[39;49m\u001b[43mcreate_document\u001b[49m\u001b[43m(\u001b[49m\u001b[38;5;124;43m\"\u001b[39;49m\u001b[38;5;124;43mexcel\u001b[39;49m\u001b[38;5;124;43m\"\u001b[39;49m\u001b[43m)\u001b[49m\n",
      "Cell \u001b[0;32mIn[5], line 10\u001b[0m, in \u001b[0;36mDocumentFactory.create_document\u001b[0;34m(doc_type)\u001b[0m\n\u001b[1;32m      8\u001b[0m     \u001b[38;5;28;01mreturn\u001b[39;00m WordDocument()\n\u001b[1;32m      9\u001b[0m \u001b[38;5;28;01melse\u001b[39;00m:\n\u001b[0;32m---> 10\u001b[0m     \u001b[38;5;28;01mraise\u001b[39;00m \u001b[38;5;167;01mValueError\u001b[39;00m(\u001b[38;5;124mf\u001b[39m\u001b[38;5;124m\"\u001b[39m\u001b[38;5;124mНеизвестный тип документа: \u001b[39m\u001b[38;5;132;01m{\u001b[39;00mdoc_type\u001b[38;5;132;01m}\u001b[39;00m\u001b[38;5;124m\"\u001b[39m)\n",
      "\u001b[0;31mValueError\u001b[0m: Неизвестный тип документа: excel"
     ]
    }
   ],
   "source": [
    "unknown = DocumentFactory.create_document(\"excel\")"
   ]
  }
 ],
 "metadata": {
  "kernelspec": {
   "display_name": ".venv",
   "language": "python",
   "name": "python3"
  },
  "language_info": {
   "codemirror_mode": {
    "name": "ipython",
    "version": 3
   },
   "file_extension": ".py",
   "mimetype": "text/x-python",
   "name": "python",
   "nbconvert_exporter": "python",
   "pygments_lexer": "ipython3",
   "version": "3.12.6"
  }
 },
 "nbformat": 4,
 "nbformat_minor": 2
}
