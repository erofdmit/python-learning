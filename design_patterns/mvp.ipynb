{
 "cells": [
  {
   "cell_type": "markdown",
   "metadata": {},
   "source": [
    "### Паттерн MVP (Model-View-Presenter)\n",
    "\n",
    "Паттерн MVP — это вариант MVC, в котором используется роль \"Presenter\" вместо \"Controller\".\n",
    "В отличие от MVC, представление (View) в MVP не взаимодействует напрямую с моделью (Model).\n",
    "Вместо этого Presenter обрабатывает всю логику взаимодействия между View и Model.\n",
    "\n",
    "Основные компоненты:\n",
    "- **Model**: Управляет данными и бизнес-логикой приложения. Не знает ни о Presenter, ни о View.\n",
    "- **View**: Отображает данные и передает пользовательские действия Presenter'у.\n",
    "- **Presenter**: Посредник между View и Model, управляет логикой интерфейса и обработкой событий. Получает данные от модели и передает их представлению.\n"
   ]
  },
  {
   "cell_type": "code",
   "execution_count": 4,
   "metadata": {},
   "outputs": [],
   "source": [
    "# Модель (Model)\n",
    "class TaskModel:\n",
    "    def __init__(self):\n",
    "        # Данные хранятся в виде списка задач\n",
    "        self.tasks = []\n",
    "\n",
    "    def add_task(self, task_name):\n",
    "        \"\"\"Добавление задачи в список\"\"\"\n",
    "        self.tasks.append(task_name)\n",
    "\n",
    "    def remove_task(self, task_name):\n",
    "        \"\"\"Удаление задачи из списка\"\"\"\n",
    "        if task_name in self.tasks:\n",
    "            self.tasks.remove(task_name)\n",
    "\n",
    "    def get_all_tasks(self):\n",
    "        \"\"\"Получение списка всех задач\"\"\"\n",
    "        return self.tasks"
   ]
  },
  {
   "cell_type": "code",
   "execution_count": 1,
   "metadata": {},
   "outputs": [],
   "source": [
    "# Представление (View)\n",
    "class TaskView:\n",
    "    def set_presenter(self, presenter):\n",
    "        \"\"\"Привязываем представление к презентеру\"\"\"\n",
    "        self.presenter = presenter\n",
    "\n",
    "    def display_tasks(self, tasks):\n",
    "        \"\"\"Отображает список всех задач\"\"\"\n",
    "        print(\"Список задач:\")\n",
    "        for task in tasks:\n",
    "            print(f\"- {task}\")\n",
    "\n",
    "    def show_task_added(self, task_name):\n",
    "        \"\"\"Показывает сообщение о добавлении задачи\"\"\"\n",
    "        print(f\"Задача '{task_name}' добавлена.\")\n",
    "\n",
    "    def show_task_removed(self, task_name):\n",
    "        \"\"\"Показывает сообщение о удалении задачи\"\"\"\n",
    "        print(f\"Задача '{task_name}' удалена.\")\n",
    "\n",
    "    def show_error(self, error_message):\n",
    "        \"\"\"Показывает сообщение об ошибке\"\"\"\n",
    "        print(f\"Ошибка: {error_message}\")"
   ]
  },
  {
   "cell_type": "code",
   "execution_count": 2,
   "metadata": {},
   "outputs": [],
   "source": [
    "# Презентер (Presenter)\n",
    "class TaskPresenter:\n",
    "    def __init__(self, model, view):\n",
    "        self.model = model  # Ссылка на модель данных\n",
    "        self.view = view    # Ссылка на представление\n",
    "        self.view.set_presenter(self)  # Связываем представление с презентером\n",
    "\n",
    "    def add_task(self, task_name):\n",
    "        \"\"\"Добавляет задачу через модель и обновляет представление\"\"\"\n",
    "        self.model.add_task(task_name)\n",
    "        self.view.show_task_added(task_name)\n",
    "        self.update_view()\n",
    "\n",
    "    def remove_task(self, task_name):\n",
    "        \"\"\"Удаляет задачу через модель и обновляет представление\"\"\"\n",
    "        if task_name in self.model.get_all_tasks():\n",
    "            self.model.remove_task(task_name)\n",
    "            self.view.show_task_removed(task_name)\n",
    "            self.update_view()\n",
    "        else:\n",
    "            self.view.show_error(f\"Задача '{task_name}' не найдена.\")\n",
    "\n",
    "    def update_view(self):\n",
    "        \"\"\"Обновляет представление, показывая актуальный список задач\"\"\"\n",
    "        tasks = self.model.get_all_tasks()\n",
    "        self.view.display_tasks(tasks)"
   ]
  },
  {
   "cell_type": "code",
   "execution_count": 5,
   "metadata": {},
   "outputs": [],
   "source": [
    "model = TaskModel()\n",
    "view = TaskView()\n",
    "presenter = TaskPresenter(model, view)"
   ]
  },
  {
   "cell_type": "code",
   "execution_count": 6,
   "metadata": {},
   "outputs": [
    {
     "name": "stdout",
     "output_type": "stream",
     "text": [
      "Задача 'Задача 1' добавлена.\n",
      "Список задач:\n",
      "- Задача 1\n",
      "Задача 'Задача 2' добавлена.\n",
      "Список задач:\n",
      "- Задача 1\n",
      "- Задача 2\n",
      "Задача 'Задача 3' добавлена.\n",
      "Список задач:\n",
      "- Задача 1\n",
      "- Задача 2\n",
      "- Задача 3\n"
     ]
    }
   ],
   "source": [
    "presenter.add_task(\"Задача 1\")  # Добавление задачи\n",
    "presenter.add_task(\"Задача 2\")  # Добавление задачи\n",
    "presenter.add_task(\"Задача 3\")  # Добавление задачи"
   ]
  },
  {
   "cell_type": "code",
   "execution_count": 7,
   "metadata": {},
   "outputs": [
    {
     "name": "stdout",
     "output_type": "stream",
     "text": [
      "Задача 'Задача 1' удалена.\n",
      "Список задач:\n",
      "- Задача 2\n",
      "- Задача 3\n",
      "Задача 'Задача 2' удалена.\n",
      "Список задач:\n",
      "- Задача 3\n"
     ]
    }
   ],
   "source": [
    "presenter.remove_task(\"Задача 1\")\n",
    "presenter.remove_task(\"Задача 2\")"
   ]
  }
 ],
 "metadata": {
  "kernelspec": {
   "display_name": ".venv",
   "language": "python",
   "name": "python3"
  },
  "language_info": {
   "codemirror_mode": {
    "name": "ipython",
    "version": 3
   },
   "file_extension": ".py",
   "mimetype": "text/x-python",
   "name": "python",
   "nbconvert_exporter": "python",
   "pygments_lexer": "ipython3",
   "version": "3.12.6"
  }
 },
 "nbformat": 4,
 "nbformat_minor": 2
}
