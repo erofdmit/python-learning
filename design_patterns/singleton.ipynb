{
 "cells": [
  {
   "cell_type": "markdown",
   "metadata": {},
   "source": [
    "### Одиночка\n",
    "\n",
    "Паттерн \"Одиночка\" (Singleton) гарантирует, что у класса есть только один экземпляр, и предоставляет к нему глобальную точку доступа. \n",
    "Это полезно в случаях, когда необходимо ограничить создание экземпляров определенного класса или обеспечить доступ к единому ресурсу, \n",
    "например, к логеру, конфигурации или подключению к базе данных.\n",
    "\n",
    "Применение:\n",
    "1. Логирование.\n",
    "2. Управление подключением к базе данных.\n",
    "3. Хранение глобальной конфигурации."
   ]
  },
  {
   "cell_type": "code",
   "execution_count": 2,
   "metadata": {},
   "outputs": [],
   "source": [
    "class Singleton:\n",
    "    _instance = None\n",
    "\n",
    "    def __new__(cls, *args, **kwargs):\n",
    "        if cls._instance is None:\n",
    "            cls._instance = super().__new__(cls)\n",
    "            # Инициализация объекта\n",
    "            cls._instance.data = \"Initial Data\"\n",
    "        return cls._instance"
   ]
  },
  {
   "cell_type": "code",
   "execution_count": 3,
   "metadata": {},
   "outputs": [
    {
     "name": "stdout",
     "output_type": "stream",
     "text": [
      "s1 data: Initial Data\n"
     ]
    }
   ],
   "source": [
    "s1 = Singleton()\n",
    "print(f\"s1 data: {s1.data}\")"
   ]
  },
  {
   "cell_type": "code",
   "execution_count": 5,
   "metadata": {},
   "outputs": [],
   "source": [
    "s1.data = \"New Data\""
   ]
  },
  {
   "cell_type": "code",
   "execution_count": 6,
   "metadata": {},
   "outputs": [
    {
     "name": "stdout",
     "output_type": "stream",
     "text": [
      "s2 data: New Data\n"
     ]
    }
   ],
   "source": [
    "s2 = Singleton()\n",
    "print(f\"s2 data: {s2.data}\")"
   ]
  },
  {
   "cell_type": "code",
   "execution_count": 7,
   "metadata": {},
   "outputs": [
    {
     "data": {
      "text/plain": [
       "True"
      ]
     },
     "execution_count": 7,
     "metadata": {},
     "output_type": "execute_result"
    }
   ],
   "source": [
    "s1 is s2"
   ]
  },
  {
   "cell_type": "markdown",
   "metadata": {},
   "source": [
    "Оба объекта - это один и тот же экземпляр"
   ]
  }
 ],
 "metadata": {
  "kernelspec": {
   "display_name": ".venv",
   "language": "python",
   "name": "python3"
  },
  "language_info": {
   "codemirror_mode": {
    "name": "ipython",
    "version": 3
   },
   "file_extension": ".py",
   "mimetype": "text/x-python",
   "name": "python",
   "nbconvert_exporter": "python",
   "pygments_lexer": "ipython3",
   "version": "3.12.6"
  }
 },
 "nbformat": 4,
 "nbformat_minor": 2
}
