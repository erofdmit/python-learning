{
 "cells": [
  {
   "cell_type": "markdown",
   "metadata": {},
   "source": [
    "### Паттерн MVVM (Model-View-ViewModel)\n",
    "\n",
    "MVVM — это архитектурный паттерн, который часто используется в разработке GUI-приложений.\n",
    "Он отделяет логику бизнес-данных (Model) от логики представления (View) и связывает их через промежуточный слой (ViewModel).\n",
    "Компоненты паттерна:\n",
    "- **Model**: Хранит данные и управляет бизнес-логикой. Не знает о View и ViewModel.\n",
    "- **View**: Представление, отвечающее за отображение данных пользователю. Оно взаимодействует только с ViewModel.\n",
    "- **ViewModel**: Посредник между View и Model. ViewModel обрабатывает события, инициированные View, и изменяет модель, а также передает обновленные данные обратно представлению."
   ]
  },
  {
   "cell_type": "code",
   "execution_count": 4,
   "metadata": {},
   "outputs": [],
   "source": [
    "# Модель (Model)\n",
    "class ProductModel:\n",
    "    \"\"\"Модель данных для хранения списка продуктов.\"\"\"\n",
    "    def __init__(self):\n",
    "        self.products = []\n",
    "\n",
    "    def add_product(self, product_name):\n",
    "        \"\"\"Добавление продукта в список.\"\"\"\n",
    "        self.products.append(product_name)\n",
    "\n",
    "    def remove_product(self, product_name):\n",
    "        \"\"\"Удаление продукта из списка.\"\"\"\n",
    "        if product_name in self.products:\n",
    "            self.products.remove(product_name)\n",
    "\n",
    "    def get_all_products(self):\n",
    "        \"\"\"Возвращает список всех продуктов.\"\"\"\n",
    "        return self.products"
   ]
  },
  {
   "cell_type": "code",
   "execution_count": 1,
   "metadata": {},
   "outputs": [],
   "source": [
    "# ViewModel (ViewModel)\n",
    "class ProductViewModel:\n",
    "    \"\"\"ViewModel связывает модель и представление, обрабатывая логику приложения.\"\"\"\n",
    "    def __init__(self, model):\n",
    "        self.model = model\n",
    "        self.view = None\n",
    "\n",
    "    def set_view(self, view):\n",
    "        \"\"\"Устанавливает связь ViewModel с View.\"\"\"\n",
    "        self.view = view\n",
    "        self.update_view()\n",
    "\n",
    "    def add_product(self, product_name):\n",
    "        \"\"\"Добавляет продукт в модель и обновляет представление.\"\"\"\n",
    "        self.model.add_product(product_name)\n",
    "        self.update_view()\n",
    "\n",
    "    def remove_product(self, product_name):\n",
    "        \"\"\"Удаляет продукт из модели и обновляет представление.\"\"\"\n",
    "        self.model.remove_product(product_name)\n",
    "        self.update_view()\n",
    "\n",
    "    def update_view(self):\n",
    "        \"\"\"Обновляет View с актуальными данными из модели.\"\"\"\n",
    "        if self.view:\n",
    "            self.view.display_products(self.model.get_all_products())"
   ]
  },
  {
   "cell_type": "code",
   "execution_count": 2,
   "metadata": {},
   "outputs": [],
   "source": [
    "# Представление (View)\n",
    "class ProductView:\n",
    "    \"\"\"Представление, отвечающее за взаимодействие с пользователем.\"\"\"\n",
    "    def __init__(self, viewmodel):\n",
    "        self.viewmodel = viewmodel\n",
    "        self.viewmodel.set_view(self)  # Устанавливаем связь с ViewModel\n",
    "\n",
    "    def display_products(self, products):\n",
    "        \"\"\"Отображает список продуктов.\"\"\"\n",
    "        print(\"Список продуктов:\")\n",
    "        for product in products:\n",
    "            print(f\"- {product}\")\n",
    "\n",
    "    def add_product(self):\n",
    "        \"\"\"Метод для добавления нового продукта (пользовательский ввод).\"\"\"\n",
    "        product_name = input(\"Введите название нового продукта: \")\n",
    "        self.viewmodel.add_product(product_name)\n",
    "\n",
    "    def remove_product(self):\n",
    "        \"\"\"Метод для удаления продукта (пользовательский ввод).\"\"\"\n",
    "        product_name = input(\"Введите название продукта для удаления: \")\n",
    "        self.viewmodel.remove_product(product_name)"
   ]
  },
  {
   "cell_type": "code",
   "execution_count": 5,
   "metadata": {},
   "outputs": [
    {
     "name": "stdout",
     "output_type": "stream",
     "text": [
      "Список продуктов:\n"
     ]
    }
   ],
   "source": [
    "model = ProductModel()\n",
    "viewmodel = ProductViewModel(model)\n",
    "view = ProductView(viewmodel)"
   ]
  },
  {
   "cell_type": "code",
   "execution_count": 6,
   "metadata": {},
   "outputs": [
    {
     "name": "stdout",
     "output_type": "stream",
     "text": [
      "Список продуктов:\n"
     ]
    }
   ],
   "source": [
    "view.display_products(model.get_all_products())"
   ]
  },
  {
   "cell_type": "code",
   "execution_count": 7,
   "metadata": {},
   "outputs": [
    {
     "name": "stdout",
     "output_type": "stream",
     "text": [
      "Список продуктов:\n",
      "- 123\n",
      "Список продуктов:\n",
      "- 123\n",
      "- 345\n"
     ]
    }
   ],
   "source": [
    "view.add_product() # 123\n",
    "view.add_product() # 345"
   ]
  },
  {
   "cell_type": "code",
   "execution_count": 8,
   "metadata": {},
   "outputs": [
    {
     "name": "stdout",
     "output_type": "stream",
     "text": [
      "Список продуктов:\n",
      "- 345\n"
     ]
    }
   ],
   "source": [
    "view.remove_product() # 123"
   ]
  }
 ],
 "metadata": {
  "kernelspec": {
   "display_name": ".venv",
   "language": "python",
   "name": "python3"
  },
  "language_info": {
   "codemirror_mode": {
    "name": "ipython",
    "version": 3
   },
   "file_extension": ".py",
   "mimetype": "text/x-python",
   "name": "python",
   "nbconvert_exporter": "python",
   "pygments_lexer": "ipython3",
   "version": "3.12.6"
  }
 },
 "nbformat": 4,
 "nbformat_minor": 2
}
