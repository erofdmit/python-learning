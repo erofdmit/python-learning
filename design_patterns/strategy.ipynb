{
 "cells": [
  {
   "cell_type": "markdown",
   "metadata": {},
   "source": [
    "### Стратегия\n",
    "\n",
    "Паттерн \"Стратегия\" (Strategy) используется для определения семейства алгоритмов, инкапсуляции каждого из них \n",
    "и обеспечения их взаимозаменяемости. Это позволяет выбрать алгоритм поведения объекта на этапе выполнения. \n",
    "Паттерн \"Стратегия\" позволяет менять поведение объекта без изменения его кода.\n",
    "\n",
    "Применение:\n",
    "1. Выбор различных методов сортировки.\n",
    "2. Настройка стратегии ценообразования.\n",
    "3. Определение стратегии маршрутизации в сетевых приложениях.\n",
    "4. Реализация различных способов оплаты в интернет-магазине."
   ]
  },
  {
   "cell_type": "code",
   "execution_count": 2,
   "metadata": {},
   "outputs": [],
   "source": [
    "# Интерфейс стратегии\n",
    "class TextStrategy:\n",
    "    def process_text(self, text):\n",
    "        raise NotImplementedError(\"Этот метод должен быть переопределен в подклассе\")"
   ]
  },
  {
   "cell_type": "code",
   "execution_count": 3,
   "metadata": {},
   "outputs": [],
   "source": [
    "# Конкретная стратегия - Преобразование текста в верхний регистр\n",
    "class UpperCaseStrategy(TextStrategy):\n",
    "    def process_text(self, text):\n",
    "        return text.upper()"
   ]
  },
  {
   "cell_type": "code",
   "execution_count": 4,
   "metadata": {},
   "outputs": [],
   "source": [
    "# Конкретная стратегия - Замена пробелов на подчеркивания\n",
    "class ReplaceSpacesStrategy(TextStrategy):\n",
    "    def process_text(self, text):\n",
    "        return text.replace(\" \", \"_\")"
   ]
  },
  {
   "cell_type": "code",
   "execution_count": 5,
   "metadata": {},
   "outputs": [],
   "source": [
    "# Конкретная стратегия - Удаление всех гласных из текста\n",
    "class RemoveVowelsStrategy(TextStrategy):\n",
    "    def process_text(self, text):\n",
    "        vowels = \"AEIOUaeiou\"\n",
    "        return ''.join([char for char in text if char not in vowels])"
   ]
  },
  {
   "cell_type": "code",
   "execution_count": 6,
   "metadata": {},
   "outputs": [],
   "source": [
    "# Контекст, который использует стратегию\n",
    "class TextProcessor:\n",
    "    def __init__(self, strategy: TextStrategy):\n",
    "        self._strategy = strategy\n",
    "\n",
    "    def set_strategy(self, strategy: TextStrategy):\n",
    "        self._strategy = strategy\n",
    "\n",
    "    def process(self, text):\n",
    "        return self._strategy.process_text(text)"
   ]
  },
  {
   "cell_type": "code",
   "execution_count": 7,
   "metadata": {},
   "outputs": [],
   "source": [
    "text = \"Hello World from Strategy Pattern\""
   ]
  },
  {
   "cell_type": "code",
   "execution_count": 8,
   "metadata": {},
   "outputs": [
    {
     "name": "stdout",
     "output_type": "stream",
     "text": [
      "UpperCase: HELLO WORLD FROM STRATEGY PATTERN\n"
     ]
    }
   ],
   "source": [
    "processor = TextProcessor(UpperCaseStrategy())\n",
    "print(f\"UpperCase: {processor.process(text)}\")"
   ]
  },
  {
   "cell_type": "code",
   "execution_count": 9,
   "metadata": {},
   "outputs": [
    {
     "name": "stdout",
     "output_type": "stream",
     "text": [
      "ReplaceSpaces: Hello_World_from_Strategy_Pattern\n"
     ]
    }
   ],
   "source": [
    "processor.set_strategy(ReplaceSpacesStrategy())\n",
    "print(f\"ReplaceSpaces: {processor.process(text)}\")"
   ]
  },
  {
   "cell_type": "code",
   "execution_count": 10,
   "metadata": {},
   "outputs": [
    {
     "name": "stdout",
     "output_type": "stream",
     "text": [
      "RemoveVowels: Hll Wrld frm Strtgy Pttrn\n"
     ]
    }
   ],
   "source": [
    "processor.set_strategy(RemoveVowelsStrategy())\n",
    "print(f\"RemoveVowels: {processor.process(text)}\")"
   ]
  }
 ],
 "metadata": {
  "kernelspec": {
   "display_name": ".venv",
   "language": "python",
   "name": "python3"
  },
  "language_info": {
   "codemirror_mode": {
    "name": "ipython",
    "version": 3
   },
   "file_extension": ".py",
   "mimetype": "text/x-python",
   "name": "python",
   "nbconvert_exporter": "python",
   "pygments_lexer": "ipython3",
   "version": "3.12.6"
  }
 },
 "nbformat": 4,
 "nbformat_minor": 2
}
