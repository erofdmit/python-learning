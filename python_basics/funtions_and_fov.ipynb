{
 "cells": [
  {
   "cell_type": "markdown",
   "metadata": {},
   "source": [
    "## Области видимости в Python"
   ]
  },
  {
   "cell_type": "markdown",
   "metadata": {},
   "source": [
    "### В Python существуют четыре области видимости (scope), которые определяют, где могут быть доступны переменные:\n"
   ]
  },
  {
   "cell_type": "markdown",
   "metadata": {},
   "source": [
    "### Локальная область видимости (local)\n",
    "\n",
    "Локальная область видимости существует внутри функции или метода и доступна только внутри этой функции. Переменные, определенные внутри функции, являются локальными для этой функции и недоступны за ее пределами."
   ]
  },
  {
   "cell_type": "code",
   "execution_count": 1,
   "metadata": {},
   "outputs": [],
   "source": [
    "def local_scope_example():\n",
    "    local_variable = \"I am local\"  # Локальная переменная\n",
    "    print(local_variable)  # Доступна только внутри этой функции"
   ]
  },
  {
   "cell_type": "code",
   "execution_count": 2,
   "metadata": {},
   "outputs": [
    {
     "name": "stdout",
     "output_type": "stream",
     "text": [
      "I am local\n"
     ]
    }
   ],
   "source": [
    "local_scope_example()"
   ]
  },
  {
   "cell_type": "code",
   "execution_count": 3,
   "metadata": {},
   "outputs": [
    {
     "ename": "NameError",
     "evalue": "name 'local_variable' is not defined",
     "output_type": "error",
     "traceback": [
      "\u001b[0;31m---------------------------------------------------------------------------\u001b[0m",
      "\u001b[0;31mNameError\u001b[0m                                 Traceback (most recent call last)",
      "Cell \u001b[0;32mIn[3], line 1\u001b[0m\n\u001b[0;32m----> 1\u001b[0m \u001b[43mlocal_variable\u001b[49m\n",
      "\u001b[0;31mNameError\u001b[0m: name 'local_variable' is not defined"
     ]
    }
   ],
   "source": [
    "local_variable"
   ]
  },
  {
   "cell_type": "markdown",
   "metadata": {},
   "source": [
    "### Нелокальная область видимости (nonlocal)\n",
    "\n",
    "Нелокальная область видимости используется внутри вложенной функции и позволяет изменять переменные, которые находятся в объемлющей функции, но не в глобальной области видимости. Для изменения таких переменных используется ключевое слово nonlocal."
   ]
  },
  {
   "cell_type": "code",
   "execution_count": 4,
   "metadata": {},
   "outputs": [],
   "source": [
    "def outer_function():\n",
    "    nonlocal_variable = \"I am nonlocal\"\n",
    "\n",
    "    def inner_function():\n",
    "        nonlocal nonlocal_variable  # Указываем, что будем изменять переменную из объемлющей функции\n",
    "        nonlocal_variable = \"I have been changed\"\n",
    "        print(f\"Внутри inner_function: {nonlocal_variable}\")  \n",
    "\n",
    "    inner_function()\n",
    "    print(f\"Внутри outer_function после изменения: {nonlocal_variable}\")"
   ]
  },
  {
   "cell_type": "code",
   "execution_count": 5,
   "metadata": {},
   "outputs": [
    {
     "name": "stdout",
     "output_type": "stream",
     "text": [
      "Внутри inner_function: I have been changed\n",
      "Внутри outer_function после изменения: I have been changed\n"
     ]
    }
   ],
   "source": [
    "outer_function()"
   ]
  },
  {
   "cell_type": "code",
   "execution_count": 6,
   "metadata": {},
   "outputs": [
    {
     "ename": "NameError",
     "evalue": "name 'nonlocal_variable' is not defined",
     "output_type": "error",
     "traceback": [
      "\u001b[0;31m---------------------------------------------------------------------------\u001b[0m",
      "\u001b[0;31mNameError\u001b[0m                                 Traceback (most recent call last)",
      "Cell \u001b[0;32mIn[6], line 1\u001b[0m\n\u001b[0;32m----> 1\u001b[0m \u001b[43mnonlocal_variable\u001b[49m\n",
      "\u001b[0;31mNameError\u001b[0m: name 'nonlocal_variable' is not defined"
     ]
    }
   ],
   "source": [
    "nonlocal_variable"
   ]
  },
  {
   "cell_type": "markdown",
   "metadata": {},
   "source": [
    "nonlocal_variable недоступна в global scope"
   ]
  },
  {
   "cell_type": "markdown",
   "metadata": {},
   "source": [
    "### Глобальная область видимости (global)\n",
    "\n",
    "Глобальная область видимости определяется на уровне модуля или программы. Переменные, определенные в глобальной области, доступны во всех функциях, если они не переопределены локально. Для изменения глобальной переменной внутри функции используется ключевое слово global."
   ]
  },
  {
   "cell_type": "code",
   "execution_count": 7,
   "metadata": {},
   "outputs": [],
   "source": [
    "global_variable = \"I am global\"  # Глобальная переменная\n",
    "\n",
    "def global_scope_example():\n",
    "    global global_variable  # Указываем, что будем изменять глобальную переменную\n",
    "    global_variable = \"I have been changed globally\"\n",
    "    print(f\"Внутри функции: {global_variable}\")"
   ]
  },
  {
   "cell_type": "code",
   "execution_count": 8,
   "metadata": {},
   "outputs": [
    {
     "name": "stdout",
     "output_type": "stream",
     "text": [
      "Внутри функции: I have been changed globally\n"
     ]
    }
   ],
   "source": [
    "global_scope_example()"
   ]
  },
  {
   "cell_type": "code",
   "execution_count": 9,
   "metadata": {},
   "outputs": [
    {
     "data": {
      "text/plain": [
       "'I have been changed globally'"
      ]
     },
     "execution_count": 9,
     "metadata": {},
     "output_type": "execute_result"
    }
   ],
   "source": [
    "global_variable"
   ]
  },
  {
   "cell_type": "markdown",
   "metadata": {},
   "source": [
    "global_variable доступна везде"
   ]
  },
  {
   "cell_type": "markdown",
   "metadata": {},
   "source": [
    "### Встроенная область видимости (built-in)\n",
    "\n",
    "Встроенная область видимости — это область, содержащая встроенные функции и объекты Python, такие как print, len, max, и др. Эти функции и объекты доступны везде в программе."
   ]
  },
  {
   "cell_type": "code",
   "execution_count": 10,
   "metadata": {},
   "outputs": [
    {
     "name": "stdout",
     "output_type": "stream",
     "text": [
      "13\n"
     ]
    }
   ],
   "source": [
    "message = \"Hello, World!\"\n",
    "print(len(message))  # Вывод: 13\n",
    "\n",
    "# Пример изменения встроенной функции в локальной области видимости\n",
    "def shadow_builtin():\n",
    "    len = \"This shadows the built-in len function\"  # Локальная переменная с именем \"len\"\n",
    "    print(len)  # Вывод: This shadows the built-in len function\n"
   ]
  },
  {
   "cell_type": "code",
   "execution_count": 11,
   "metadata": {},
   "outputs": [
    {
     "name": "stdout",
     "output_type": "stream",
     "text": [
      "This shadows the built-in len function\n"
     ]
    }
   ],
   "source": [
    "shadow_builtin()"
   ]
  },
  {
   "cell_type": "markdown",
   "metadata": {},
   "source": [
    "Функция len — это встроенная функция Python, которая доступна в любом месте программы. Однако в примере shadow_builtin переменная len переопределяет (заслоняет) встроенную функцию len в локальной области видимости, поэтому внутри функции вызов len будет обращаться к локальной переменной, а не к встроенной функции."
   ]
  }
 ],
 "metadata": {
  "kernelspec": {
   "display_name": ".venv",
   "language": "python",
   "name": "python3"
  },
  "language_info": {
   "codemirror_mode": {
    "name": "ipython",
    "version": 3
   },
   "file_extension": ".py",
   "mimetype": "text/x-python",
   "name": "python",
   "nbconvert_exporter": "python",
   "pygments_lexer": "ipython3",
   "version": "3.12.6"
  }
 },
 "nbformat": 4,
 "nbformat_minor": 2
}
