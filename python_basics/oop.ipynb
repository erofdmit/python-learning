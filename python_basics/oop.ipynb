{
 "cells": [
  {
   "cell_type": "markdown",
   "metadata": {},
   "source": [
    "### Объектная модель Python "
   ]
  },
  {
   "cell_type": "markdown",
   "metadata": {},
   "source": [
    "Объектная модель Python  основана на парадигме объектно-ориентированного программирования (ООП). ООП позволяет структурировать код в виде классов, которые содержат поля (атрибуты) и методы (функции). Класс — это шаблон для создания объектов. Поля хранят состояние объектов, а методы описывают их поведение."
   ]
  },
  {
   "cell_type": "code",
   "execution_count": 3,
   "metadata": {},
   "outputs": [],
   "source": [
    "# Наследование\n",
    "class Animal:\n",
    "    def speak(self):\n",
    "        raise NotImplementedError(\"Subclasses should implement this!\")\n",
    "\n",
    "class Dog(Animal):  # Dog наследует класс Animal\n",
    "    def speak(self):\n",
    "        return \"Woof!\"\n",
    "\n",
    "class Cat(Animal):  # Cat наследует класс Animal\n",
    "    def speak(self):\n",
    "        return \"Meow!\"\n",
    "\n",
    "class Car(Animal):\n",
    "    def drive(self):\n",
    "        return \"I'm a car!\""
   ]
  },
  {
   "cell_type": "code",
   "execution_count": 4,
   "metadata": {},
   "outputs": [
    {
     "name": "stdout",
     "output_type": "stream",
     "text": [
      "Woof!\n",
      "Meow!\n"
     ]
    },
    {
     "ename": "NotImplementedError",
     "evalue": "Subclasses should implement this!",
     "output_type": "error",
     "traceback": [
      "\u001b[0;31m---------------------------------------------------------------------------\u001b[0m",
      "\u001b[0;31mNotImplementedError\u001b[0m                       Traceback (most recent call last)",
      "Cell \u001b[0;32mIn[4], line 4\u001b[0m\n\u001b[1;32m      2\u001b[0m animals \u001b[38;5;241m=\u001b[39m [Dog(), Cat(), Car()]\n\u001b[1;32m      3\u001b[0m \u001b[38;5;28;01mfor\u001b[39;00m animal \u001b[38;5;129;01min\u001b[39;00m animals:\n\u001b[0;32m----> 4\u001b[0m     \u001b[38;5;28mprint\u001b[39m(\u001b[43manimal\u001b[49m\u001b[38;5;241;43m.\u001b[39;49m\u001b[43mspeak\u001b[49m\u001b[43m(\u001b[49m\u001b[43m)\u001b[49m)  \u001b[38;5;66;03m# Вывод: Woof! Meow!\u001b[39;00m\n",
      "Cell \u001b[0;32mIn[3], line 4\u001b[0m, in \u001b[0;36mAnimal.speak\u001b[0;34m(self)\u001b[0m\n\u001b[1;32m      3\u001b[0m \u001b[38;5;28;01mdef\u001b[39;00m \u001b[38;5;21mspeak\u001b[39m(\u001b[38;5;28mself\u001b[39m):\n\u001b[0;32m----> 4\u001b[0m     \u001b[38;5;28;01mraise\u001b[39;00m \u001b[38;5;167;01mNotImplementedError\u001b[39;00m(\u001b[38;5;124m\"\u001b[39m\u001b[38;5;124mSubclasses should implement this!\u001b[39m\u001b[38;5;124m\"\u001b[39m)\n",
      "\u001b[0;31mNotImplementedError\u001b[0m: Subclasses should implement this!"
     ]
    }
   ],
   "source": [
    "# Полиморфизм: объекты разных классов могут вызываться через один интерфейс\n",
    "animals = [Dog(), Cat(), Car()]\n",
    "for animal in animals:\n",
    "    print(animal.speak())  # Вывод: Woof! Meow!\n"
   ]
  },
  {
   "cell_type": "markdown",
   "metadata": {},
   "source": [
    "### property, private, protected атрибуты"
   ]
  },
  {
   "cell_type": "markdown",
   "metadata": {},
   "source": [
    "В Python доступ к атрибутам класса может быть ограничен для реализации инкапсуляции. Используются три уровня доступа:\n",
    "\n",
    "Public (публичный): Атрибут доступен извне без ограничений (по умолчанию).\n",
    "Protected (защищенный): Атрибут обозначается одним подчеркиванием (_) и предназначен только для внутреннего использования классом и его наследниками.\n",
    "Private (приватный): Атрибут обозначается двумя подчеркиваниями (__) и доступен только внутри класса."
   ]
  },
  {
   "cell_type": "code",
   "execution_count": 20,
   "metadata": {},
   "outputs": [],
   "source": [
    "class Employee:\n",
    "    def __init__(self, name, salary):\n",
    "        self.name = name            # Публичный атрибут\n",
    "        self._salary = salary        # Защищенный атрибут\n",
    "        self.__secret_code = \"1234\"  # Приватный атрибут\n",
    "\n",
    "    @property\n",
    "    def salary(self):\n",
    "        return self._salary\n",
    "\n",
    "    @salary.setter\n",
    "    def salary(self, value):\n",
    "        if value < 0:\n",
    "            raise ValueError(\"Salary cannot be negative.\") # внутренняя валидация для сеттера\n",
    "        self._salary = value"
   ]
  },
  {
   "cell_type": "code",
   "execution_count": 21,
   "metadata": {},
   "outputs": [],
   "source": [
    "emp = Employee(\"Bob\", 5000)"
   ]
  },
  {
   "cell_type": "code",
   "execution_count": 22,
   "metadata": {},
   "outputs": [
    {
     "name": "stdout",
     "output_type": "stream",
     "text": [
      "Bob\n"
     ]
    }
   ],
   "source": [
    "print(emp.name)         # Публичный доступ: Bob\n"
   ]
  },
  {
   "cell_type": "code",
   "execution_count": 23,
   "metadata": {},
   "outputs": [
    {
     "name": "stdout",
     "output_type": "stream",
     "text": [
      "5000\n",
      "5000\n",
      "6000\n"
     ]
    }
   ],
   "source": [
    "print(emp._salary)\n",
    "print(emp.salary)       # Использование геттера: 5000\n",
    "emp.salary = 6000       # Использование сеттера: обновление значения\n",
    "print(emp.salary)"
   ]
  },
  {
   "cell_type": "code",
   "execution_count": 24,
   "metadata": {},
   "outputs": [
    {
     "ename": "AttributeError",
     "evalue": "'Employee' object has no attribute '__secret_code'",
     "output_type": "error",
     "traceback": [
      "\u001b[0;31m---------------------------------------------------------------------------\u001b[0m",
      "\u001b[0;31mAttributeError\u001b[0m                            Traceback (most recent call last)",
      "Cell \u001b[0;32mIn[24], line 1\u001b[0m\n\u001b[0;32m----> 1\u001b[0m \u001b[38;5;28mprint\u001b[39m(\u001b[43memp\u001b[49m\u001b[38;5;241;43m.\u001b[39;49m\u001b[43m__secret_code\u001b[49m)  \u001b[38;5;66;03m# Ошибка: атрибут '__secret_code' не доступен извне\u001b[39;00m\n",
      "\u001b[0;31mAttributeError\u001b[0m: 'Employee' object has no attribute '__secret_code'"
     ]
    }
   ],
   "source": [
    "print(emp.__secret_code)  # Ошибка: атрибут '__secret_code' не доступен извне"
   ]
  },
  {
   "cell_type": "markdown",
   "metadata": {},
   "source": [
    "В отличие от private к protected можно получить доступ снаружи, а его неиспользование вне класса - лишь соглашение"
   ]
  },
  {
   "cell_type": "markdown",
   "metadata": {},
   "source": [
    "### classmethod, staticmethod, dataclass"
   ]
  },
  {
   "cell_type": "markdown",
   "metadata": {},
   "source": [
    "classmethod: Метод, который получает в качестве первого аргумента сам класс (cls) и может изменять атрибуты класса.\n",
    "\n",
    "staticmethod: Метод, который не связан ни с классом, ни с экземпляром. Он не получает self или cls в качестве аргументов.\n",
    "\n",
    "dataclass: Класс для создания простых классов данных, где автоматически генерируются методы __init__, __repr__, __eq__ и др"
   ]
  },
  {
   "cell_type": "code",
   "execution_count": 26,
   "metadata": {},
   "outputs": [],
   "source": [
    "class MathOperations:\n",
    "    @staticmethod\n",
    "    def add(x, y):\n",
    "        return x + y\n",
    "\n",
    "    @classmethod\n",
    "    def description(cls):\n",
    "        return f\"This is a class for {cls.__name__}.\""
   ]
  },
  {
   "cell_type": "code",
   "execution_count": 27,
   "metadata": {},
   "outputs": [
    {
     "name": "stdout",
     "output_type": "stream",
     "text": [
      "8\n",
      "This is a class for MathOperations.\n"
     ]
    }
   ],
   "source": [
    "print(MathOperations.add(3, 5))        \n",
    "print(MathOperations.description()) "
   ]
  },
  {
   "cell_type": "code",
   "execution_count": 29,
   "metadata": {},
   "outputs": [],
   "source": [
    "from dataclasses import dataclass\n",
    "\n",
    "@dataclass\n",
    "class Point:\n",
    "    x: int\n",
    "    y: int"
   ]
  },
  {
   "cell_type": "code",
   "execution_count": 30,
   "metadata": {},
   "outputs": [
    {
     "name": "stdout",
     "output_type": "stream",
     "text": [
      "Point(x=2, y=3)\n"
     ]
    }
   ],
   "source": [
    "p1 = Point(2, 3)\n",
    "print(p1)"
   ]
  },
  {
   "cell_type": "markdown",
   "metadata": {},
   "source": [
    "### Волшебные методы, переопределение методов"
   ]
  },
  {
   "cell_type": "markdown",
   "metadata": {},
   "source": [
    "Волшебные методы (магические методы) — это методы с двойными подчеркиваниями в начале и в конце (__method_name__), которые позволяют реализовать поведение объектов при операциях, таких как сложение, сравнение, преобразование в строку и т. д."
   ]
  },
  {
   "cell_type": "markdown",
   "metadata": {},
   "source": [
    "Опишем сложение векторов в полярных координатах как пример:"
   ]
  },
  {
   "cell_type": "code",
   "execution_count": 46,
   "metadata": {},
   "outputs": [],
   "source": [
    "import math\n",
    "\n",
    "class PolarVector:\n",
    "    def __init__(self, magnitude, angle):\n",
    "        self.magnitude = magnitude  # Длина вектора (модуль)\n",
    "        self.angle = angle  # Угол в градусах\n",
    "\n",
    "    def to_cartesian(self):\n",
    "        \"\"\"Преобразование полярных координат в декартовы.\"\"\"\n",
    "        x = self.magnitude * math.cos(math.radians(self.angle))\n",
    "        y = self.magnitude * math.sin(math.radians(self.angle))\n",
    "        return x, y\n",
    "\n",
    "    @classmethod\n",
    "    def from_cartesian(cls, x, y):\n",
    "        \"\"\"Преобразование декартовых координат в полярные.\"\"\"\n",
    "        magnitude = math.sqrt(x**2 + y**2)\n",
    "        angle = math.degrees(math.atan2(y, x))\n",
    "        return cls(magnitude, angle)\n",
    "\n",
    "    def __add__(self, other):\n",
    "        # Переводим оба вектора в декартовы координаты\n",
    "        x1, y1 = self.to_cartesian()\n",
    "        x2, y2 = other.to_cartesian()\n",
    "\n",
    "        # Складываем координаты\n",
    "        x_sum = x1 + x2\n",
    "        y_sum = y1 + y2\n",
    "\n",
    "        # Преобразуем результат обратно в полярные координаты\n",
    "        return PolarVector.from_cartesian(x_sum, y_sum)\n",
    "\n",
    "    def __str__(self):\n",
    "        return f\"This is Polar Vector with magnitude={self.magnitude:.2f} and angle={self.angle:.2f}\""
   ]
  },
  {
   "cell_type": "code",
   "execution_count": 48,
   "metadata": {},
   "outputs": [],
   "source": [
    "vector1 = PolarVector(5, 45)\n",
    "vector2 = PolarVector(10, 90)"
   ]
  },
  {
   "cell_type": "code",
   "execution_count": 50,
   "metadata": {},
   "outputs": [
    {
     "name": "stdout",
     "output_type": "stream",
     "text": [
      "This is Polar Vector with magnitude=13.99 and angle=75.36)\n"
     ]
    }
   ],
   "source": [
    "print(vector1 + vector2)"
   ]
  }
 ],
 "metadata": {
  "kernelspec": {
   "display_name": ".venv",
   "language": "python",
   "name": "python3"
  },
  "language_info": {
   "codemirror_mode": {
    "name": "ipython",
    "version": 3
   },
   "file_extension": ".py",
   "mimetype": "text/x-python",
   "name": "python",
   "nbconvert_exporter": "python",
   "pygments_lexer": "ipython3",
   "version": "3.12.6"
  }
 },
 "nbformat": 4,
 "nbformat_minor": 2
}
