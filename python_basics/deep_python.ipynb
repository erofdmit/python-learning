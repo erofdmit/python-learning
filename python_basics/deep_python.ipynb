{
 "cells": [
  {
   "cell_type": "markdown",
   "metadata": {},
   "source": [
    "### Мемоизация — это техника оптимизации, при которой результаты выполнения функции кешируются, чтобы избежать повторных вычислений."
   ]
  },
  {
   "cell_type": "markdown",
   "metadata": {},
   "source": [
    "Источник - https://habr.com/ru/articles/335866/"
   ]
  },
  {
   "cell_type": "code",
   "execution_count": 1,
   "metadata": {},
   "outputs": [],
   "source": [
    "import time\n",
    "def clock(func):\n",
    "    def clocked(*args, **kwargs):\n",
    "        t0 = time.time()\n",
    "\n",
    "        result = func(*args, **kwargs)  # вызов декорированной функции\n",
    "\n",
    "        elapsed = time.time() - t0\n",
    "        name = func.__name__\n",
    "        arg_1st = []\n",
    "        if args:\n",
    "            arg_1st.append(', '.join(repr(arg) for arg in args))\n",
    "        if kwargs:\n",
    "            pairs = ['%s=%r' % (k, w) for k, w in sorted(kwargs.items())]\n",
    "            arg_1st.append(', '.join(pairs))\n",
    "        arg_str = ', '.join(arg_1st)\n",
    "        print('[%0.8fs] %s(%s) -> %r' % (elapsed, name, arg_str, result))\n",
    "        return result\n",
    "    return clocked\n"
   ]
  },
  {
   "cell_type": "code",
   "execution_count": 2,
   "metadata": {},
   "outputs": [],
   "source": [
    "def memoize(f):  \n",
    "    # Определение декоратора memoize, который принимает функцию f в качестве аргумента.\n",
    "    cache = {}  \n",
    "    # Локальный словарь cache используется для хранения уже вычисленных результатов функции.\n",
    "    \n",
    "    def decorate(*args):  \n",
    "        # Внутренняя функция decorate принимает произвольное количество аргументов (*args).\n",
    "        if args in cache:  \n",
    "            # Проверяет, есть ли эти аргументы в словаре cache.\n",
    "            return cache[args]  \n",
    "            # Если есть, возвращает сохраненное значение, избегая повторного выполнения функции.\n",
    "        else:  \n",
    "            cache[args] = f(*args)  \n",
    "            # Если нет, вычисляет результат выполнения функции f с этими аргументами,\n",
    "            # сохраняет результат в словаре cache по ключу args.\n",
    "            return cache[args]  \n",
    "            # Возвращает вычисленный результат.\n",
    "\n",
    "    return decorate  \n",
    "    # Возвращает функцию decorate, которая заменяет исходную функцию f."
   ]
  },
  {
   "cell_type": "code",
   "execution_count": 3,
   "metadata": {},
   "outputs": [],
   "source": [
    "# Базовый пример - функция подсчета числа Фибоначчи\n",
    "@memoize\n",
    "def fibonacci_memo(n):\n",
    "    if n < 2:\n",
    "        return n\n",
    "    return fibonacci_memo(n - 1) + fibonacci_memo(n - 2)"
   ]
  },
  {
   "cell_type": "code",
   "execution_count": 4,
   "metadata": {},
   "outputs": [],
   "source": [
    "def fibonacci_non_memo(n):\n",
    "    if n < 2:\n",
    "        return n  \n",
    "    return fibonacci_non_memo(n - 1) + fibonacci_non_memo(n - 2)"
   ]
  },
  {
   "cell_type": "code",
   "execution_count": 5,
   "metadata": {},
   "outputs": [],
   "source": [
    "@clock\n",
    "def many_heavy_comp(func, n):\n",
    "    for i in range(n):\n",
    "        func(i)\n",
    "    print(func(n))"
   ]
  },
  {
   "cell_type": "code",
   "execution_count": 6,
   "metadata": {},
   "outputs": [
    {
     "name": "stdout",
     "output_type": "stream",
     "text": [
      "354224848179261915075\n",
      "[0.00022697s] many_heavy_comp(<function memoize.<locals>.decorate at 0x7f698c0f2480>, 100) -> None\n"
     ]
    }
   ],
   "source": [
    "many_heavy_comp(fibonacci_memo, 100)"
   ]
  },
  {
   "cell_type": "code",
   "execution_count": 7,
   "metadata": {},
   "outputs": [
    {
     "name": "stdout",
     "output_type": "stream",
     "text": [
      "6765\n",
      "[0.00172019s] many_heavy_comp(<function fibonacci_non_memo at 0x7f698c0f2520>, 20) -> None\n"
     ]
    }
   ],
   "source": [
    "many_heavy_comp(fibonacci_non_memo, 20)"
   ]
  },
  {
   "cell_type": "markdown",
   "metadata": {},
   "source": [
    "Без мемоизации даже 20 вычислений Фибоначчи медленнее, чем вычисление 100 Фибоначчи с мемоизации"
   ]
  },
  {
   "cell_type": "markdown",
   "metadata": {},
   "source": [
    "### Кеширование - более общее понятие чем мемоизация. В кеше можно сохранять любые данные для их переиспользования, а при мемоизации сохраняются только результаты выполненных в процессе работы функций, т.е. мемоизация - частный случай кеширования"
   ]
  },
  {
   "cell_type": "code",
   "execution_count": 8,
   "metadata": {},
   "outputs": [],
   "source": [
    "from functools import lru_cache"
   ]
  },
  {
   "cell_type": "code",
   "execution_count": 9,
   "metadata": {},
   "outputs": [],
   "source": [
    "@lru_cache(maxsize=128)  # Декоратор lru_cache кэширует до 128 последних результатов выполнения функции\n",
    "def heavy_computation(x):\n",
    "    time.sleep(2)  # Имитация долгих вычислений (2 секунды)\n",
    "    return x ** x"
   ]
  },
  {
   "cell_type": "code",
   "execution_count": 10,
   "metadata": {},
   "outputs": [],
   "source": [
    "def heavy_computation_not_cached(x):\n",
    "    time.sleep(2)  # Имитация долгих вычислений (2 секунды)\n",
    "    return x ** x"
   ]
  },
  {
   "cell_type": "code",
   "execution_count": 11,
   "metadata": {},
   "outputs": [
    {
     "name": "stdout",
     "output_type": "stream",
     "text": [
      "10000000000\n",
      "[22.00261331s] many_heavy_comp(<functools._lru_cache_wrapper object at 0x7f698c41fab0>, 10) -> None\n"
     ]
    }
   ],
   "source": [
    "many_heavy_comp(heavy_computation, 10)"
   ]
  },
  {
   "cell_type": "code",
   "execution_count": 12,
   "metadata": {},
   "outputs": [
    {
     "name": "stdout",
     "output_type": "stream",
     "text": [
      "10000000000\n",
      "[0.00004673s] many_heavy_comp(<functools._lru_cache_wrapper object at 0x7f698c41fab0>, 10) -> None\n"
     ]
    }
   ],
   "source": [
    "many_heavy_comp(heavy_computation, 10)"
   ]
  },
  {
   "cell_type": "code",
   "execution_count": 13,
   "metadata": {},
   "outputs": [
    {
     "name": "stdout",
     "output_type": "stream",
     "text": [
      "10000000000\n",
      "[22.00169039s] many_heavy_comp(<function heavy_computation_not_cached at 0x7f698c0f1e40>, 10) -> None\n"
     ]
    }
   ],
   "source": [
    "many_heavy_comp(heavy_computation_not_cached, 10)"
   ]
  },
  {
   "cell_type": "code",
   "execution_count": 14,
   "metadata": {},
   "outputs": [
    {
     "name": "stdout",
     "output_type": "stream",
     "text": [
      "10000000000\n",
      "[22.00229716s] many_heavy_comp(<function heavy_computation_not_cached at 0x7f698c0f1e40>, 10) -> None\n"
     ]
    }
   ],
   "source": [
    "many_heavy_comp(heavy_computation_not_cached, 10)"
   ]
  },
  {
   "cell_type": "markdown",
   "metadata": {},
   "source": [
    "Как мы видим - без кеширования функция при новом выводе выполняется с нуля и занимает 22 секунды. С ним - меньше 0.0001s"
   ]
  },
  {
   "cell_type": "markdown",
   "metadata": {},
   "source": [
    "Другие примеры кеширования с помощью functools:"
   ]
  },
  {
   "cell_type": "code",
   "execution_count": 22,
   "metadata": {},
   "outputs": [],
   "source": [
    "from functools import cache, cached_property\n",
    "\n",
    "@cache\n",
    "def factorial_cache(n):\n",
    "    return 1 if n == 0 else n * factorial_cache(n - 1)\n",
    "    "
   ]
  },
  {
   "cell_type": "code",
   "execution_count": 19,
   "metadata": {},
   "outputs": [],
   "source": [
    "def factorial_non_cache(n):\n",
    "    return 1 if n == 0 else n * factorial_non_cache(n - 1)"
   ]
  },
  {
   "cell_type": "code",
   "execution_count": 20,
   "metadata": {},
   "outputs": [
    {
     "name": "stdout",
     "output_type": "stream",
     "text": [
      "2432902008176640000\n",
      "[0.00004625s] many_heavy_comp(<functools._lru_cache_wrapper object at 0x7f698c178ca0>, 20) -> None\n"
     ]
    }
   ],
   "source": [
    "many_heavy_comp(factorial_cache, 20)"
   ]
  },
  {
   "cell_type": "code",
   "execution_count": 21,
   "metadata": {},
   "outputs": [
    {
     "name": "stdout",
     "output_type": "stream",
     "text": [
      "2432902008176640000\n",
      "[0.00005007s] many_heavy_comp(<function factorial_non_cache at 0x7f696f73ca40>, 20) -> None\n"
     ]
    }
   ],
   "source": [
    "many_heavy_comp(factorial_non_cache, 20)"
   ]
  },
  {
   "cell_type": "code",
   "execution_count": 26,
   "metadata": {},
   "outputs": [],
   "source": [
    "class Circle:\n",
    "    def __init__(self, radius):\n",
    "        self.radius = radius\n",
    "\n",
    "    \n",
    "    @cached_property\n",
    "    @clock\n",
    "    def area(self):\n",
    "        print(\"Вычисление площади...\")\n",
    "        return 3.14159 * self.radius ** 2\n",
    "\n",
    "circle = Circle(5)"
   ]
  },
  {
   "cell_type": "code",
   "execution_count": 27,
   "metadata": {},
   "outputs": [
    {
     "name": "stdout",
     "output_type": "stream",
     "text": [
      "Вычисление площади...\n",
      "[0.00004268s] area(<__main__.Circle object at 0x7f696f732cf0>) -> 78.53975\n"
     ]
    },
    {
     "data": {
      "text/plain": [
       "78.53975"
      ]
     },
     "execution_count": 27,
     "metadata": {},
     "output_type": "execute_result"
    }
   ],
   "source": [
    "circle.area"
   ]
  },
  {
   "cell_type": "code",
   "execution_count": 29,
   "metadata": {},
   "outputs": [
    {
     "data": {
      "text/plain": [
       "78.53975"
      ]
     },
     "execution_count": 29,
     "metadata": {},
     "output_type": "execute_result"
    }
   ],
   "source": [
    "circle.area"
   ]
  },
  {
   "cell_type": "markdown",
   "metadata": {},
   "source": [
    "cached_propery применяется для объектов класса, cache - кеширует все результаты вызова функций, lru_cache - только n (используется для ограничения сохраненных результатов)"
   ]
  },
  {
   "cell_type": "markdown",
   "metadata": {},
   "source": [
    "### Интенирование строк - одинаковые строки могут быть хранимы в памяти как один объект, что экономит ресурсы."
   ]
  },
  {
   "cell_type": "code",
   "execution_count": 15,
   "metadata": {},
   "outputs": [],
   "source": [
    "a = \"hello\"\n",
    "b = \"hello\""
   ]
  },
  {
   "cell_type": "code",
   "execution_count": 16,
   "metadata": {},
   "outputs": [
    {
     "data": {
      "text/plain": [
       "True"
      ]
     },
     "execution_count": 16,
     "metadata": {},
     "output_type": "execute_result"
    }
   ],
   "source": [
    "a is b"
   ]
  }
 ],
 "metadata": {
  "kernelspec": {
   "display_name": ".venv",
   "language": "python",
   "name": "python3"
  },
  "language_info": {
   "codemirror_mode": {
    "name": "ipython",
    "version": 3
   },
   "file_extension": ".py",
   "mimetype": "text/x-python",
   "name": "python",
   "nbconvert_exporter": "python",
   "pygments_lexer": "ipython3",
   "version": "3.12.6"
  }
 },
 "nbformat": 4,
 "nbformat_minor": 2
}
