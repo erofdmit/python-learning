{
 "cells": [
  {
   "cell_type": "markdown",
   "metadata": {},
   "source": [
    "### Абстрактные классы"
   ]
  },
  {
   "cell_type": "markdown",
   "metadata": {},
   "source": [
    "Абстрактный класс — это класс, который не предназначен для создания экземпляров и служит только как шаблон для наследования. Он определяет интерфейс (методы и свойства), который должен быть реализован в дочерних (подклассах), но сам не реализует всю логику этих методов.\n",
    "\n",
    "Абстрактные классы используются, когда требуется задать определенную структуру и методы, которые должны быть реализованы в дочерних классах. В Python абстрактные классы и методы реализуются с помощью модуля abc (Abstract Base Classes)."
   ]
  },
  {
   "cell_type": "markdown",
   "metadata": {},
   "source": [
    "### Зачем использовать абстрактные классы?\n",
    "- **Задание интерфейсов**: Абстрактные классы задают интерфейс для дочерних классов, определяя, какие методы и свойства должны быть реализованы.\n",
    "- **Реализация шаблонов**: Абстрактные классы позволяют определить шаблон для наследования, который обеспечивает единообразие в реализации.\n",
    "- **Обеспечение контракта**: Абстрактные классы гарантируют, что все дочерние классы будут иметь определенные методы, что помогает избежать ошибок при разработке."
   ]
  },
  {
   "cell_type": "code",
   "execution_count": 2,
   "metadata": {},
   "outputs": [],
   "source": [
    "from abc import ABC, abstractmethod\n",
    "import math\n",
    "\n",
    "# Абстрактный класс Shape (Форма)\n",
    "class Shape(ABC):\n",
    "    @abstractmethod  # Декоратор для определения абстрактного метода\n",
    "    def area(self):\n",
    "        \"\"\"Абстрактный метод для вычисления площади\"\"\"\n",
    "        pass\n",
    "\n",
    "    @abstractmethod\n",
    "    def perimeter(self):\n",
    "        \"\"\"Абстрактный метод для вычисления периметра\"\"\"\n",
    "        pass"
   ]
  },
  {
   "cell_type": "code",
   "execution_count": 3,
   "metadata": {},
   "outputs": [],
   "source": [
    "# Подкласс Circle (Круг), который наследует абстрактный класс Shape\n",
    "class Circle(Shape):\n",
    "    def __init__(self, radius):\n",
    "        self.radius = radius\n",
    "\n",
    "    # Реализация метода area() для круга\n",
    "    def area(self):\n",
    "        return math.pi * self.radius ** 2\n",
    "\n",
    "    # Реализация метода perimeter() для круга\n",
    "    def perimeter(self):\n",
    "        return 2 * math.pi * self.radius"
   ]
  },
  {
   "cell_type": "code",
   "execution_count": 4,
   "metadata": {},
   "outputs": [],
   "source": [
    "# Подкласс Rectangle (Прямоугольник), который наследует абстрактный класс Shape\n",
    "class Rectangle(Shape):\n",
    "    def __init__(self, width, height):\n",
    "        self.width = width\n",
    "        self.height = height\n",
    "\n",
    "    # Реализация метода area() для прямоугольника\n",
    "    def area(self):\n",
    "        return self.width * self.height\n",
    "\n",
    "    # Реализация метода perimeter() для прямоугольника\n",
    "    def perimeter(self):\n",
    "        return 2 * (self.width + self.height)\n"
   ]
  },
  {
   "cell_type": "code",
   "execution_count": 6,
   "metadata": {},
   "outputs": [
    {
     "ename": "TypeError",
     "evalue": "Can't instantiate abstract class Shape without an implementation for abstract methods 'area', 'perimeter'",
     "output_type": "error",
     "traceback": [
      "\u001b[0;31m---------------------------------------------------------------------------\u001b[0m",
      "\u001b[0;31mTypeError\u001b[0m                                 Traceback (most recent call last)",
      "Cell \u001b[0;32mIn[6], line 1\u001b[0m\n\u001b[0;32m----> 1\u001b[0m shape \u001b[38;5;241m=\u001b[39m \u001b[43mShape\u001b[49m\u001b[43m(\u001b[49m\u001b[43m)\u001b[49m\n",
      "\u001b[0;31mTypeError\u001b[0m: Can't instantiate abstract class Shape without an implementation for abstract methods 'area', 'perimeter'"
     ]
    }
   ],
   "source": [
    "shape = Shape()"
   ]
  },
  {
   "cell_type": "markdown",
   "metadata": {},
   "source": [
    "Нельзя создать объект абстрактного класса"
   ]
  },
  {
   "cell_type": "code",
   "execution_count": 7,
   "metadata": {},
   "outputs": [],
   "source": [
    "circle = Circle(5)\n",
    "rectangle = Rectangle(4, 6)"
   ]
  },
  {
   "cell_type": "code",
   "execution_count": 10,
   "metadata": {},
   "outputs": [
    {
     "name": "stdout",
     "output_type": "stream",
     "text": [
      "Площадь круга: 78.53981633974483\n",
      "Периметр круга: 31.41592653589793\n",
      "Площадь прямоугольника: 24\n",
      "Периметр прямоугольника: 20\n"
     ]
    }
   ],
   "source": [
    "print(f\"Площадь круга: {circle.area()}\")\n",
    "print(f\"Периметр круга: {circle.perimeter()}\")\n",
    "print(f\"Площадь прямоугольника: {rectangle.area()}\")\n",
    "print(f\"Периметр прямоугольника: {rectangle.perimeter()}\")"
   ]
  }
 ],
 "metadata": {
  "kernelspec": {
   "display_name": ".venv",
   "language": "python",
   "name": "python3"
  },
  "language_info": {
   "codemirror_mode": {
    "name": "ipython",
    "version": 3
   },
   "file_extension": ".py",
   "mimetype": "text/x-python",
   "name": "python",
   "nbconvert_exporter": "python",
   "pygments_lexer": "ipython3",
   "version": "3.12.6"
  }
 },
 "nbformat": 4,
 "nbformat_minor": 2
}
